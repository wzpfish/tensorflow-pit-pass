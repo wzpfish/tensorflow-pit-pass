{
 "cells": [
  {
   "cell_type": "code",
   "execution_count": 3,
   "metadata": {},
   "outputs": [
    {
     "name": "stdout",
     "output_type": "stream",
     "text": [
      "1.14.0\n"
     ]
    }
   ],
   "source": [
    "import tensorflow as tf\n",
    "tf.enable_eager_execution()\n",
    "print(tf.__version__)"
   ]
  },
  {
   "cell_type": "markdown",
   "metadata": {},
   "source": [
    "# tensorflow keras model 如何 consume tf.data.Dataset?\n",
    "如果使用 `tf.keras.Model` 来构建模型，并调用 `model.fit(x=dataset)` 来进行训练，`fit` 函数是如何 consume dataset 的，看下面例子："
   ]
  },
  {
   "cell_type": "code",
   "execution_count": 4,
   "metadata": {},
   "outputs": [
    {
     "name": "stdout",
     "output_type": "stream",
     "text": [
      "WARNING:tensorflow:Expected a shuffled dataset but input dataset `x` is not shuffled. Please invoke `shuffle()` on input dataset.\n",
      "Epoch 1/10\n",
      "1/1 [==============================] - 0s 125ms/step - loss: 0.0000e+00\n",
      "Epoch 2/10\n",
      "1/1 [==============================] - 0s 0s/step - loss: 1.0000\n",
      "Epoch 3/10\n",
      "1/1 [==============================] - 0s 0s/step - loss: 4.0000\n",
      "Epoch 4/10\n",
      "1/1 [==============================] - 0s 0s/step - loss: 9.0000\n",
      "Epoch 5/10\n",
      "1/1 [==============================] - 0s 16ms/step - loss: 16.0000\n",
      "Epoch 6/10\n",
      "1/1 [==============================] - 0s 0s/step - loss: 0.0000e+00\n",
      "Epoch 7/10\n",
      "1/1 [==============================] - 0s 16ms/step - loss: 1.0000\n",
      "Epoch 8/10\n",
      "1/1 [==============================] - 0s 0s/step - loss: 4.0000\n",
      "Epoch 9/10\n",
      "1/1 [==============================] - 0s 0s/step - loss: 9.0000\n",
      "Epoch 10/10\n",
      "1/1 [==============================] - 0s 16ms/step - loss: 16.0000\n"
     ]
    },
    {
     "data": {
      "text/plain": [
       "<tensorflow.python.keras.callbacks.History at 0x23fff9ee898>"
      ]
     },
     "execution_count": 4,
     "metadata": {},
     "output_type": "execute_result"
    }
   ],
   "source": [
    "def create_model():\n",
    "    model = tf.keras.Sequential()\n",
    "    model.compile(optimizer=tf.train.AdamOptimizer(0.01), loss='mse')\n",
    "    return model\n",
    "\n",
    "x = tf.constant([0, 1, 2, 3, 4], dtype=tf.float32)\n",
    "y = tf.constant([0, 0, 0, 0, 0], dtype=tf.float32)\n",
    "\n",
    "dataset = tf.data.Dataset.from_tensor_slices((x, y))\n",
    "dataset = dataset.repeat()\n",
    "dataset = dataset.batch(1)\n",
    "\n",
    "model = create_model()\n",
    "model.fit(dataset, steps_per_epoch=1, epochs=10)"
   ]
  },
  {
   "cell_type": "markdown",
   "metadata": {},
   "source": [
    "可以发现，`model.fit` 会迭代 dataset，并且在步数达到 `steps_per_epoch` 之后，也**不会重置迭代器，而是从上次位置继续迭代**。"
   ]
  }
 ],
 "metadata": {
  "kernelspec": {
   "display_name": "py37tf14",
   "language": "python",
   "name": "py37tf14"
  },
  "language_info": {
   "codemirror_mode": {
    "name": "ipython",
    "version": 3
   },
   "file_extension": ".py",
   "mimetype": "text/x-python",
   "name": "python",
   "nbconvert_exporter": "python",
   "pygments_lexer": "ipython3",
   "version": "3.7.3"
  }
 },
 "nbformat": 4,
 "nbformat_minor": 2
}
